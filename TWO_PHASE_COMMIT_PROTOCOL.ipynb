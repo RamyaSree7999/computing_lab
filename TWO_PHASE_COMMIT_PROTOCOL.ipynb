{
  "nbformat": 4,
  "nbformat_minor": 0,
  "metadata": {
    "colab": {
      "provenance": [],
      "authorship_tag": "ABX9TyM4RdvHziA6ZRw9ZX7t65VB",
      "include_colab_link": true
    },
    "kernelspec": {
      "name": "python3",
      "display_name": "Python 3"
    },
    "language_info": {
      "name": "python"
    }
  },
  "cells": [
    {
      "cell_type": "markdown",
      "metadata": {
        "id": "view-in-github",
        "colab_type": "text"
      },
      "source": [
        "<a href=\"https://colab.research.google.com/github/RamyaSree7999/computing_lab/blob/main/TWO_PHASE_COMMIT_PROTOCOL.ipynb\" target=\"_parent\"><img src=\"https://colab.research.google.com/assets/colab-badge.svg\" alt=\"Open In Colab\"/></a>"
      ]
    },
    {
      "cell_type": "code",
      "execution_count": 5,
      "metadata": {
        "colab": {
          "base_uri": "https://localhost:8080/"
        },
        "id": "Pit_hTwXvkqF",
        "outputId": "399f890e-4720-44dd-b374-4e68f98769db"
      },
      "outputs": [
        {
          "output_type": "stream",
          "name": "stdout",
          "text": [
            "T1 acquired lock on item1\n",
            "T1 acquired lock on item2\n",
            "Lock Table:\n",
            "item1: T1\n",
            "item2: T1\n",
            "T2 failed to acquire lock on item1\n",
            "Lock Table:\n",
            "item1: None\n",
            "item2: None\n"
          ]
        }
      ],
      "source": [
        "class Transaction:\n",
        "    def __init__(self, transaction_id):\n",
        "        self.transaction_id = transaction_id\n",
        "        self.locks = set()  # Set of acquired locks\n",
        "\n",
        "    def acquire_lock(self, lock_manager, item):\n",
        "        if lock_manager.acquire_lock(self, item):\n",
        "            self.locks.add(item)\n",
        "            return True\n",
        "        return False\n",
        "\n",
        "    def release_locks(self, lock_manager):\n",
        "        for item in self.locks:\n",
        "            lock_manager.release_lock(self, item)\n",
        "        self.locks.clear()\n",
        "\n",
        "class LockManager:\n",
        "    def __init__(self):\n",
        "        self.lock_table = {}\n",
        "\n",
        "    def acquire_lock(self, transaction, item):\n",
        "        if item in self.lock_table:\n",
        "            if self.lock_table[item] is None:\n",
        "                self.lock_table[item] = transaction\n",
        "                return True\n",
        "            elif self.lock_table[item] == transaction:\n",
        "                return True\n",
        "            else:\n",
        "                return False\n",
        "        else:\n",
        "            self.lock_table[item] = transaction\n",
        "            return True\n",
        "\n",
        "    def release_lock(self, transaction, item):\n",
        "        if item in self.lock_table and self.lock_table[item] == transaction:\n",
        "            self.lock_table[item] = None\n",
        "\n",
        "    def print_lock_table(self):\n",
        "        print(\"Lock Table:\")\n",
        "        for item, transaction in self.lock_table.items():\n",
        "            print(f\"{item}: {transaction.transaction_id if transaction else 'None'}\")\n",
        "\n",
        "# Example usage\n",
        "if __name__ == '__main__':\n",
        "    lock_manager = LockManager()\n",
        "    t1 = Transaction(\"T1\")\n",
        "    t2 = Transaction(\"T2\")\n",
        "    t3 = Transaction(\"T3\")\n",
        "\n",
        "    if t1.acquire_lock(lock_manager, \"item1\"):\n",
        "        print(\"T1 acquired lock on item1\")\n",
        "    if t1.acquire_lock(lock_manager, \"item2\"):\n",
        "        print(\"T1 acquired lock on item2\")\n",
        "\n",
        "    lock_manager.print_lock_table()  # Print current lock table\n",
        "\n",
        "    if t2.acquire_lock(lock_manager, \"item1\"):\n",
        "        print(\"T2 acquired lock on item1\")\n",
        "    else:\n",
        "        print(\"T2 failed to acquire lock on item1\")\n",
        "\n",
        "    # Transaction 1 releases locks\n",
        "    t1.release_locks(lock_manager)\n",
        "    lock_manager.print_lock_table()  # Print updated lock table\n"
      ]
    }
  ]
}